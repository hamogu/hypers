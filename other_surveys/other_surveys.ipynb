{
 "cells": [
  {
   "cell_type": "code",
   "execution_count": 1,
   "id": "10d4d3a7",
   "metadata": {},
   "outputs": [],
   "source": [
    "from base import IPHAS, CSC2, XMM4, MAST, Simbad, RXS2, ALMA"
   ]
  },
  {
   "cell_type": "code",
   "execution_count": 2,
   "id": "dfab43d2",
   "metadata": {},
   "outputs": [],
   "source": [
    "from astropy.io import fits, ascii\n",
    "import astropy.units as u\n",
    "from astropy.coordinates import SkyCoord\n",
    "from astropy.wcs import WCS\n",
    "from astropy.io import fits\n",
    "import astropy.units as u\n",
    "from astropy.coordinates import SkyCoord\n",
    "from astropy.wcs import WCS"
   ]
  },
  {
   "cell_type": "code",
   "execution_count": 18,
   "id": "075aff5b",
   "metadata": {},
   "outputs": [],
   "source": [
    "from astropy.visualization import simple_norm\n",
    "import matplotlib.pyplot as plt\n",
    "from PIL import Image\n",
    "import mpld3\n",
    "from mpld3 import plugins\n",
    "\n",
    "import pandas as pd\n",
    "import glob, os\n",
    "%matplotlib inline\n",
    "\n",
    "\n",
    "# Define some CSS to control our custom labels\n",
    "css = \"\"\"\n",
    "table\n",
    "{\n",
    "  border-collapse: collapse;\n",
    "}\n",
    "th\n",
    "{\n",
    "  color: #ffffff;\n",
    "  background-color: #000000;\n",
    "}\n",
    "td\n",
    "{\n",
    "  background-color: #cccccc;\n",
    "}\n",
    "table, th, td\n",
    "{\n",
    "  font-family:Arial, Helvetica, sans-serif;\n",
    "  border: 1px solid black;\n",
    "  text-align: right;\n",
    "}\n",
    "\"\"\""
   ]
  },
  {
   "cell_type": "code",
   "execution_count": null,
   "id": "55305926",
   "metadata": {},
   "outputs": [],
   "source": [
    "#rpath = '/home/abinks/hst/MAST_2022-04-14T1324/'\n",
    "#flc_files = glob.glob(rpath + '/**/**/*drz.fits')\n",
    "#print(repr(flc_files))\n"
   ]
  },
  {
   "cell_type": "code",
   "execution_count": null,
   "id": "be593e53",
   "metadata": {},
   "outputs": [
    {
     "name": "stdout",
     "output_type": "stream",
     "text": [
      "          MAIN_ID                  RA           DEC      RA_PREC DEC_PREC ...    DEC_d     COO_ERR_MAJA_d COO_ERR_MINA_d COO_ERR_ANGLE_d SCRIPT_NUMBER_ID\n",
      "                                \"h:m:s\"       \"d:m:s\"                     ...     deg           mas            mas             deg                       \n",
      "---------------------------- ------------- ------------- ------- -------- ... ------------ -------------- -------------- --------------- ----------------\n",
      "     2MASS J18185383-1351277 18 18 53.8341 -13 51 27.622      14       14 ... -13.85767295          0.477          0.467              90                1\n",
      "              [CKW92] IRS 39    18 18 52.9     -13 51 34       5        5 ... -13.85940000             --             --               0                1\n",
      "     2MASS J18185440-1351300 18 18 54.4053 -13 51 30.102      14       14 ... -13.85836193          0.062          0.059              90                1\n",
      "             NGC  6611   369 18 18 52.9304 -13 50 58.914      14       14 ... -13.84969857          0.034          0.031              90                1\n",
      " Cl* NGC 6611    GMD     830 18 18 51.6232 -13 51 27.660      14       14 ... -13.85768343          0.631          0.629              90                1\n",
      "                      HH 216    18 18 55.3     -13 51 47       5        5 ... -13.86310000             --             --               0                1\n",
      "     2MASS J18185278-1351592 18 18 52.7778 -13 51 59.285      14       14 ... -13.86646811          1.767          1.852              90                1\n",
      "                    RFS  245    18 18 56.3     -13 51 15       5        5 ... -13.85420000             --             --               0                1\n",
      "             NGC  6611   361 18 18 51.9900 -13 50 43.027      14       14 ... -13.84528551          0.049          0.048              90                1\n",
      "                         ...           ...           ...     ...      ... ...          ...            ...            ...             ...              ...\n",
      "     2MASS J18184709-1350141 18 18 47.1021 -13 50 14.136      14       14 ... -13.83726027          0.298          0.291              90                1\n",
      " Cl* NGC 6611    GMD     908  18 18 47.863  -13 50 01.17       7        7 ... -13.83365900         99.000         99.000               0                1\n",
      "     2MASS J18185208-1349293 18 18 52.1000 -13 49 29.207      14       14 ... -13.82477995          0.017          0.016              90                1\n",
      "Gaia DR2 4146597856926362240 18 18 45.7365 -13 51 52.974      14       14 ... -13.86471520          0.114          0.114              90                1\n",
      "     2MASS J18185668-1349375 18 18 56.6869 -13 49 37.613      14       14 ... -13.82711487          0.161          0.153              90                1\n",
      "              [IRW2007] HH-N    18 18 58.9     -13 52 48       5        5 ... -13.88000000             --             --               0                1\n",
      "     2MASS J18184864-1349498 18 18 48.6332 -13 49 49.455      14       14 ... -13.83040418          5.023          4.153              90                1\n",
      "     2MASS J18184904-1349443  18 18 49.044  -13 49 44.37       7        7 ... -13.82899200         70.000         70.000              90                1\n",
      "             NGC  6611   422 18 18 58.6715 -13 52 55.636      14       14 ... -13.88212131          0.033          0.031              90                1\n",
      "Length = 103 rows\n",
      "\n",
      "Note: if you're in the IPython notebook, mpld3.show() is not the best command\n",
      "      to use. Consider using mpld3.display(), or mpld3.enable_notebook().\n",
      "      See more information at http://mpld3.github.io/quickstart.html .\n",
      "\n",
      "You must interrupt the kernel to end this command\n",
      "\n",
      "Serving to http://127.0.0.1:8894/    [Ctrl-C to exit]\n"
     ]
    },
    {
     "name": "stderr",
     "output_type": "stream",
     "text": [
      "127.0.0.1 - - [15/Apr/2022 08:32:08] \"GET / HTTP/1.1\" 200 -\n",
      "127.0.0.1 - - [15/Apr/2022 08:32:16] \"GET /d3.js HTTP/1.1\" 200 -\n",
      "127.0.0.1 - - [15/Apr/2022 08:32:16] \"GET /mpld3.js HTTP/1.1\" 200 -\n"
     ]
    }
   ],
   "source": [
    "def run_plots(data, simbad, f_in, wcs_in):\n",
    "    ### I can't get mpld3 to correctly map onto the image ###\n",
    "    ### Things seem to revert to pixel coordinates if we ###\n",
    "    ### try to overplot them ###\n",
    "    print(simbad.table)\n",
    "    df = simbad.table.to_pandas()\n",
    "    labels = []\n",
    "    for i in range(len(df)):\n",
    "        label = df.iloc[[i], :].T\n",
    "        label.columns = ['Row {0}'.format(i)]\n",
    "    # .to_html() is unicode; so make leading 'u' go away with str()\n",
    "        labels.append(str(label.to_html()))\n",
    "    \n",
    "    fig = plt.figure(figsize=(15, 10))\n",
    "    ax = fig.add_axes([0,0,1,1], projection=wcs_in)\n",
    "#    ax.autoscale(False)\n",
    "    norm = simple_norm(data, 'log', min_percent=5, max_percent=95)\n",
    "    im = ax.imshow(data, norm=norm)\n",
    "    ra = ax.coords['ra']\n",
    "    dec = ax.coords['dec']\n",
    "    ra.grid(color='k', alpha=0.5, linestyle='solid')\n",
    "    dec.grid(color='k', alpha=0.5, linestyle='solid')\n",
    "#    simbad.plot(ax)\n",
    "#    ax.legend()\n",
    "    coo_in = SkyCoord(df['RA_d'], df['DEC'], unit=(u.deg))#, u.deg))\n",
    "    points = ax.plot(coo_in.ra, coo_in.dec, 'o', color='b',\n",
    "                  mec='k', ms=15, mew=1, alpha=.6)\n",
    "    tooltip = plugins.PointHTMLTooltip(points[0], labels,\n",
    "                                   voffset=0.1, hoffset=0.1, css=css)\n",
    "    \n",
    "    plugins.connect(fig, tooltip)\n",
    "    mpld3.show()\n",
    "\n",
    "hdus = fits.open('iehc96kfq_drz.fits')\n",
    "wcs = WCS(hdus[1].header)\n",
    "center = SkyCoord(hdus[1].header['RA_APER'], hdus[1].header['DEC_APER'], unit=u.deg)\n",
    "simbad = Simbad()\n",
    "simbad.query(center)\n",
    "run_plots(hdus[1].data, simbad, hdus, wcs)"
   ]
  }
 ],
 "metadata": {
  "kernelspec": {
   "display_name": "Python 3 (ipykernel)",
   "language": "python",
   "name": "python3"
  },
  "language_info": {
   "codemirror_mode": {
    "name": "ipython",
    "version": 3
   },
   "file_extension": ".py",
   "mimetype": "text/x-python",
   "name": "python",
   "nbconvert_exporter": "python",
   "pygments_lexer": "ipython3",
   "version": "3.9.7"
  }
 },
 "nbformat": 4,
 "nbformat_minor": 5
}
