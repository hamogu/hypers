{
 "cells": [
  {
   "cell_type": "code",
   "execution_count": 1,
   "metadata": {},
   "outputs": [
    {
     "ename": "NameError",
     "evalue": "name 'asdfa' is not defined",
     "output_type": "error",
     "traceback": [
      "\u001b[0;31m---------------------------------------------------------------------------\u001b[0m",
      "\u001b[0;31mNameError\u001b[0m                                 Traceback (most recent call last)",
      "\u001b[0;32m/tmp/ipykernel_29097/3247218714.py\u001b[0m in \u001b[0;36m<module>\u001b[0;34m\u001b[0m\n\u001b[0;32m----> 1\u001b[0;31m \u001b[0;32mfrom\u001b[0m \u001b[0mbase\u001b[0m \u001b[0;32mimport\u001b[0m \u001b[0mIPHAS\u001b[0m\u001b[0;34m,\u001b[0m \u001b[0mCSC2\u001b[0m\u001b[0;34m,\u001b[0m \u001b[0mXMM4\u001b[0m\u001b[0;34m,\u001b[0m \u001b[0mMAST\u001b[0m\u001b[0;34m,\u001b[0m \u001b[0mSimbad\u001b[0m\u001b[0;34m,\u001b[0m \u001b[0mRXS2\u001b[0m\u001b[0;34m,\u001b[0m \u001b[0mALMA\u001b[0m\u001b[0;34m,\u001b[0m \u001b[0mGaiaEDR3\u001b[0m\u001b[0;34m,\u001b[0m \u001b[0mgiraffe\u001b[0m\u001b[0;34m,\u001b[0m \u001b[0muves\u001b[0m\u001b[0;34m,\u001b[0m \u001b[0mxshooter\u001b[0m\u001b[0;34m\u001b[0m\u001b[0;34m\u001b[0m\u001b[0m\n\u001b[0m",
      "\u001b[0;32m~/hst/hypers/other_surveys/base.py\u001b[0m in \u001b[0;36m<module>\u001b[0;34m\u001b[0m\n\u001b[1;32m    162\u001b[0m                    transform=ax.get_transform('icrs'), label=self.name, **kwargs)\n\u001b[1;32m    163\u001b[0m \u001b[0;34m\u001b[0m\u001b[0m\n\u001b[0;32m--> 164\u001b[0;31m \u001b[0;32mclass\u001b[0m \u001b[0mVCatalog\u001b[0m\u001b[0;34m(\u001b[0m\u001b[0mAstroService\u001b[0m\u001b[0;34m)\u001b[0m\u001b[0;34m:\u001b[0m\u001b[0;34m\u001b[0m\u001b[0;34m\u001b[0m\u001b[0m\n\u001b[0m\u001b[1;32m    165\u001b[0m     \u001b[0mservice\u001b[0m \u001b[0;34m=\u001b[0m \u001b[0mVizier\u001b[0m\u001b[0;34m\u001b[0m\u001b[0;34m\u001b[0m\u001b[0m\n\u001b[1;32m    166\u001b[0m     \u001b[0masdfa\u001b[0m\u001b[0;34m\u001b[0m\u001b[0;34m\u001b[0m\u001b[0m\n",
      "\u001b[0;32m~/hst/hypers/other_surveys/base.py\u001b[0m in \u001b[0;36mVCatalog\u001b[0;34m()\u001b[0m\n\u001b[1;32m    164\u001b[0m \u001b[0;32mclass\u001b[0m \u001b[0mVCatalog\u001b[0m\u001b[0;34m(\u001b[0m\u001b[0mAstroService\u001b[0m\u001b[0;34m)\u001b[0m\u001b[0;34m:\u001b[0m\u001b[0;34m\u001b[0m\u001b[0;34m\u001b[0m\u001b[0m\n\u001b[1;32m    165\u001b[0m     \u001b[0mservice\u001b[0m \u001b[0;34m=\u001b[0m \u001b[0mVizier\u001b[0m\u001b[0;34m\u001b[0m\u001b[0;34m\u001b[0m\u001b[0m\n\u001b[0;32m--> 166\u001b[0;31m     \u001b[0masdfa\u001b[0m\u001b[0;34m\u001b[0m\u001b[0;34m\u001b[0m\u001b[0m\n\u001b[0m\u001b[1;32m    167\u001b[0m     \u001b[0;32mdef\u001b[0m \u001b[0mquery\u001b[0m\u001b[0;34m(\u001b[0m\u001b[0mself\u001b[0m\u001b[0;34m,\u001b[0m \u001b[0mcenter\u001b[0m\u001b[0;34m)\u001b[0m\u001b[0;34m:\u001b[0m\u001b[0;34m\u001b[0m\u001b[0;34m\u001b[0m\u001b[0m\n\u001b[1;32m    168\u001b[0m         \u001b[0mself\u001b[0m\u001b[0;34m.\u001b[0m\u001b[0mtable\u001b[0m \u001b[0;34m=\u001b[0m \u001b[0mVizier\u001b[0m\u001b[0;34m.\u001b[0m\u001b[0mquery_region\u001b[0m\u001b[0;34m(\u001b[0m\u001b[0mcenter\u001b[0m\u001b[0;34m,\u001b[0m \u001b[0mwidth\u001b[0m\u001b[0;34m=\u001b[0m\u001b[0mself\u001b[0m\u001b[0;34m.\u001b[0m\u001b[0mradius\u001b[0m\u001b[0;34m,\u001b[0m \u001b[0mcatalog\u001b[0m\u001b[0;34m=\u001b[0m\u001b[0mself\u001b[0m\u001b[0;34m.\u001b[0m\u001b[0mcatalog\u001b[0m\u001b[0;34m,\u001b[0m \u001b[0mROW_LIMIT\u001b[0m\u001b[0;34m=\u001b[0m\u001b[0;34m-\u001b[0m\u001b[0;36m1\u001b[0m\u001b[0;34m)\u001b[0m\u001b[0;34m\u001b[0m\u001b[0;34m\u001b[0m\u001b[0m\n",
      "\u001b[0;31mNameError\u001b[0m: name 'asdfa' is not defined"
     ]
    }
   ],
   "source": [
    "from base import IPHAS, CSC2, XMM4, MAST, Simbad, RXS2, ALMA, GaiaEDR3, giraffe, uves, xshooter"
   ]
  },
  {
   "cell_type": "code",
   "execution_count": null,
   "metadata": {},
   "outputs": [],
   "source": [
    "from astropy.io import fits\n",
    "import astropy.units as u\n",
    "from astropy.coordinates import SkyCoord\n",
    "from astropy.wcs import WCS"
   ]
  },
  {
   "cell_type": "code",
   "execution_count": null,
   "metadata": {},
   "outputs": [],
   "source": [
    "import glob"
   ]
  },
  {
   "cell_type": "code",
   "execution_count": null,
   "metadata": {},
   "outputs": [],
   "source": [
    "from astropy.visualization import simple_norm\n",
    "import matplotlib.pyplot as plt\n",
    "plt.rcParams.update({'figure.autolayout': True})\n",
    "\n",
    "%matplotlib inline"
   ]
  },
  {
   "cell_type": "code",
   "execution_count": null,
   "metadata": {
    "scrolled": false
   },
   "outputs": [],
   "source": [
    "files_in = [name for name in glob.glob(\"./DRZ_FILES/**/*drz.fits\")]\n",
    "directory = [name for name in glob.glob(\"./DRZ_FILES/**\")]"
   ]
  },
  {
   "cell_type": "code",
   "execution_count": null,
   "metadata": {},
   "outputs": [],
   "source": []
  },
  {
   "cell_type": "code",
   "execution_count": null,
   "metadata": {},
   "outputs": [],
   "source": [
    "def plot_files(file, directory):\n",
    "    print(file)\n",
    "#    wcs = None\n",
    "    hdus = fits.open(file)\n",
    "#    if hdus[1].header['CTYPE1'] == 'RA---TAN':\n",
    "    wcs = WCS(hdus[1].header, naxis=2)\n",
    "#    print(wcs)\n",
    "#    else:\n",
    "#        wcs = WCS(hdus[1].header, fobj=hdus[1], naxis=2)\n",
    "    center = SkyCoord(hdus[1].header['RA_APER'], hdus[1].header['DEC_APER'], unit=u.deg)\n",
    "    fig = plt.figure(figsize=(10, 10), dpi=80)\n",
    "    ax = fig.add_axes([0,0,1, 1], projection=wcs)\n",
    "\n",
    "    norm = simple_norm(hdus[1].data, 'log', min_percent=5, max_percent=95)\n",
    "    im = ax.imshow(hdus[1].data, norm=norm, cmap='spring')\n",
    "\n",
    "    ra = ax.coords['ra']\n",
    "    dec = ax.coords['dec']\n",
    "\n",
    "    ra.grid(color='k', alpha=0.5, linestyle='solid')\n",
    "    dec.grid(color='k', alpha=0.5, linestyle='solid')\n",
    "    for Service in [Simbad, CSC2, IPHAS, ALMA, RXS2, XMM4, GaiaEDR3, giraffe, uves, xshooter]:\n",
    "        service = Service()\n",
    "        service.read_or_query(directory, center)\n",
    "        service.plot(ax)\n",
    "    ax.set_xlabel('RA', fontsize=20)\n",
    "    ax.set_ylabel('DEC', fontsize=20)\n",
    "    ax.text(0.08,0.98,directory[-9:],horizontalalignment='center',\n",
    "            verticalalignment='center', fontsize=20, transform=ax.transAxes)\n",
    "    ax.legend()\n",
    "#    print(service.description())\n",
    "    service.table\n",
    "#    cMAST = SkyCoord(service.table['s_ra'], service.table['s_dec'], unit=u.deg)\n",
    "#    sep = cMAST.separation(center)\n",
    "#    ids = sep.argsort()[::-1][:10]\n",
    "#    for idx in ids:\n",
    "#        print(service.table['obs_collection'][idx], sep[idx].deg)\n",
    "#    print(service.table['obs_collection'][np.sort(sep*u.deg, reverse=True])\n",
    "    fig.savefig(directory+'/'+directory[-9:]+'_catalogs.jpg', bbox_inches=\"tight\")\n",
    "    return fig"
   ]
  },
  {
   "cell_type": "code",
   "execution_count": null,
   "metadata": {
    "scrolled": false
   },
   "outputs": [],
   "source": [
    "r1, r2 = 0,3\n",
    "get_plots = [plot_files(files_in[i], directory[i]) for i in range(r1,r2)]"
   ]
  },
  {
   "cell_type": "code",
   "execution_count": null,
   "metadata": {},
   "outputs": [],
   "source": [
    "service = MAST()\n",
    "service.read('./DRZ_FILES/jehc25uiq/')"
   ]
  },
  {
   "cell_type": "code",
   "execution_count": null,
   "metadata": {},
   "outputs": [],
   "source": [
    "service.table\n",
    "print(service.table['s_ra'])\n",
    "print(center)"
   ]
  },
  {
   "cell_type": "code",
   "execution_count": null,
   "metadata": {},
   "outputs": [],
   "source": [
    "table = service.table"
   ]
  },
  {
   "cell_type": "code",
   "execution_count": null,
   "metadata": {},
   "outputs": [],
   "source": [
    "print(out)"
   ]
  },
  {
   "cell_type": "code",
   "execution_count": null,
   "metadata": {},
   "outputs": [],
   "source": [
    "service.description()"
   ]
  },
  {
   "cell_type": "code",
   "execution_count": null,
   "metadata": {},
   "outputs": [],
   "source": [
    "type(service)"
   ]
  },
  {
   "cell_type": "code",
   "execution_count": null,
   "metadata": {},
   "outputs": [],
   "source": [
    "service.table"
   ]
  },
  {
   "cell_type": "code",
   "execution_count": null,
   "metadata": {
    "scrolled": true
   },
   "outputs": [],
   "source": [
    "#IPHAS, CSC2, XMM4, MAST, Simbad, RXS2, ALMA\n",
    "for Service in [Simbad, XMM4, ALMA, IPHAS, CSC2, RXS2]:\n",
    "    service = Service()\n",
    "    service.read_or_query(directory, center)\n",
    "    print(service.name, service.description())"
   ]
  },
  {
   "cell_type": "code",
   "execution_count": null,
   "metadata": {},
   "outputs": [],
   "source": [
    "service"
   ]
  }
 ],
 "metadata": {
  "interpreter": {
   "hash": "c2ba2f51944d9bdbbbd43915e997a04a0d201faf7279ab44f309af268d1bd358"
  },
  "kernelspec": {
   "display_name": "Python 3 (ipykernel)",
   "language": "python",
   "name": "python3"
  },
  "language_info": {
   "codemirror_mode": {
    "name": "ipython",
    "version": 3
   },
   "file_extension": ".py",
   "mimetype": "text/x-python",
   "name": "python",
   "nbconvert_exporter": "python",
   "pygments_lexer": "ipython3",
   "version": "3.9.7"
  }
 },
 "nbformat": 4,
 "nbformat_minor": 2
}
