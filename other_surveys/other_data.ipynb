{
 "cells": [
  {
   "cell_type": "code",
   "execution_count": null,
   "metadata": {},
   "outputs": [],
   "source": [
    "from base import IPHAS, CSC2, XMM4, MAST, Simbad, RXS2, ALMA"
   ]
  },
  {
   "cell_type": "code",
   "execution_count": null,
   "metadata": {},
   "outputs": [],
   "source": [
    "from astropy.io import fits\n",
    "import astropy.units as u\n",
    "from astropy.coordinates import SkyCoord\n",
    "from astropy.wcs import WCS "
   ]
  },
  {
   "cell_type": "code",
   "execution_count": null,
   "metadata": {},
   "outputs": [],
   "source": [
    "from astropy.visualization import simple_norm\n",
    "import matplotlib.pyplot as plt\n",
    "\n",
    "%matplotlib inline"
   ]
  },
  {
   "cell_type": "code",
   "execution_count": null,
   "metadata": {},
   "outputs": [],
   "source": [
    "hdus = fits.open('../../IE6Z02ODQ/ie6z02odq_drz.fits')\n",
    "wcs = WCS(hdus[1].header)\n",
    "center = SkyCoord(hdus[1].header['RA_APER'], hdus[1].header['DEC_APER'], unit=u.deg)\n"
   ]
  },
  {
   "cell_type": "code",
   "execution_count": null,
   "metadata": {},
   "outputs": [],
   "source": [
    "simbad = Simbad()\n",
    "#out = simbad.service.query_region(center, radius=simbad.radius)\n",
    "simbad.query(center)"
   ]
  },
  {
   "cell_type": "code",
   "execution_count": null,
   "metadata": {},
   "outputs": [],
   "source": [
    "xmm = XMM4()\n",
    "\n",
    "#out = xmm.service.query_region(center, radius=xmm.radius, catalog=xmm.catalog)\n",
    "xmm.query(center)"
   ]
  },
  {
   "cell_type": "code",
   "execution_count": null,
   "metadata": {},
   "outputs": [],
   "source": [
    "xmm.table"
   ]
  },
  {
   "cell_type": "code",
   "execution_count": null,
   "metadata": {},
   "outputs": [],
   "source": [
    "simbad.table is None"
   ]
  },
  {
   "cell_type": "code",
   "execution_count": null,
   "metadata": {},
   "outputs": [],
   "source": [
    "hdus = fits.open('../../iehc96kfq/iehc96kfq_drz.fits')\n",
    "wcs = WCS(hdus[1].header)\n",
    "center = SkyCoord(hdus[1].header['RA_APER'], hdus[1].header['DEC_APER'], unit=u.deg)"
   ]
  },
  {
   "cell_type": "code",
   "execution_count": null,
   "metadata": {},
   "outputs": [],
   "source": [
    "simbad = Simbad()"
   ]
  },
  {
   "cell_type": "code",
   "execution_count": null,
   "metadata": {},
   "outputs": [],
   "source": [
    "simbad.read_or_query('../../iehc96kfq/', center)"
   ]
  },
  {
   "cell_type": "code",
   "execution_count": null,
   "metadata": {},
   "outputs": [],
   "source": [
    "xmm = XMM4()\n",
    "xmm.read_or_query('../../iehc96kfq/', center)"
   ]
  },
  {
   "cell_type": "code",
   "execution_count": null,
   "metadata": {},
   "outputs": [],
   "source": [
    "fig = plt.figure(figsize=(15, 10))\n",
    "ax = fig.add_axes([0,0,.7, 1], projection=wcs)\n",
    "\n",
    "norm = simple_norm(hdus[1].data, 'log', min_percent=5, max_percent=95)\n",
    "im = ax.imshow(hdus[1].data, norm=norm)\n",
    "\n",
    "\n",
    "ra = ax.coords['ra']\n",
    "dec = ax.coords['dec']\n",
    "\n",
    "#lon.set_ticks(spacing=15. * u.arcsec)\n",
    "#lat.set_ticks(spacing=15. * u.arcsec)\n",
    "\n",
    "ra.grid(color='k', alpha=0.5, linestyle='solid')\n",
    "dec.grid(color='k', alpha=0.5, linestyle='solid')\n",
    "\n",
    "simbad.plot(ax)\n",
    "xmm.plot(ax)\n",
    "\n",
    "ax.legend()"
   ]
  },
  {
   "cell_type": "code",
   "execution_count": null,
   "metadata": {},
   "outputs": [],
   "source": []
  }
 ],
 "metadata": {
  "interpreter": {
   "hash": "c2ba2f51944d9bdbbbd43915e997a04a0d201faf7279ab44f309af268d1bd358"
  },
  "kernelspec": {
   "display_name": "Python 3.10.1 ('kitchensink')",
   "language": "python",
   "name": "python3"
  },
  "language_info": {
   "codemirror_mode": {
    "name": "ipython",
    "version": 3
   },
   "file_extension": ".py",
   "mimetype": "text/x-python",
   "name": "python",
   "nbconvert_exporter": "python",
   "pygments_lexer": "ipython3",
   "version": "3.10.1"
  },
  "orig_nbformat": 4
 },
 "nbformat": 4,
 "nbformat_minor": 2
}
